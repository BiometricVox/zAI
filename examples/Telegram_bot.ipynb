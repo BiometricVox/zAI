{
 "cells": [
  {
   "cell_type": "markdown",
   "metadata": {},
   "source": [
    "# Telegram bot with zAI"
   ]
  },
  {
   "cell_type": "markdown",
   "metadata": {},
   "source": [
    "## Introduction"
   ]
  },
  {
   "cell_type": "markdown",
   "metadata": {},
   "source": [
    "In this tutorial we will learn how to implement a simple telegram bot to process our photos using Python Telegram Bot and zAI. \n",
    "\n",
    "Telegram is a messaging app focused in the speed and security, which can be used in multiple devices such as smartphone, desktop, tablet, etc. at the same time. It also has the functionality of create bots to acomplish all kind of tasks. In this tutorial we will use <a href=https://github.com/python-telegram-bot/python-telegram-bot>Python Telegram Bot</a>, a library provides a Python interface for <a href=https://core.telegram.org/bots/api>Telegram Bot Api</a>. It also provides high-level classes to make the development of bots easy and straightforward. You can install or upgrade python-telegram-bot with:"
   ]
  },
  {
   "cell_type": "raw",
   "metadata": {},
   "source": [
    "$ pip install python-telegram-bot --upgrade"
   ]
  },
  {
   "cell_type": "markdown",
   "metadata": {},
   "source": [
    "## First steps in Python Telegram Bot"
   ]
  },
  {
   "cell_type": "markdown",
   "metadata": {},
   "source": [
    "The first step is create a new Telegram Bot using **BotFather**. Simply introdocing _/newbot_ and following the steps the bot creates a new one that you can manage from it. You can access it from the API using its token. "
   ]
  },
  {
   "cell_type": "code",
   "execution_count": 1,
   "metadata": {
    "collapsed": true
   },
   "outputs": [],
   "source": [
    "TOKEN = '<token>'"
   ]
  },
  {
   "cell_type": "markdown",
   "metadata": {},
   "source": [
    "We create an updater and a dispatcher to simplify access:"
   ]
  },
  {
   "cell_type": "code",
   "execution_count": 2,
   "metadata": {
    "collapsed": true
   },
   "outputs": [],
   "source": [
    "from telegram.ext import Updater"
   ]
  },
  {
   "cell_type": "code",
   "execution_count": 3,
   "metadata": {
    "collapsed": true
   },
   "outputs": [],
   "source": [
    "updater  = Updater(token=TOKEN)\n",
    "dispatcher = updater.dispatcher"
   ]
  },
  {
   "cell_type": "markdown",
   "metadata": {},
   "source": [
    "The firts command we will create is */start*. It will works as welcome message and to get familiar with the sintaxis. We define a function to be called when the bot receive the message /start that replies _'Welcome to zAIbot!'_."
   ]
  },
  {
   "cell_type": "code",
   "execution_count": 4,
   "metadata": {
    "collapsed": true
   },
   "outputs": [],
   "source": [
    "def cmd_start(bot, update):\n",
    "    bot.send_message(chat_id = update.message.chat_id, text='Welcome to zAIbot')"
   ]
  },
  {
   "cell_type": "markdown",
   "metadata": {},
   "source": [
    "Then, we create a command handler and add it to the dispatcher. "
   ]
  },
  {
   "cell_type": "code",
   "execution_count": 5,
   "metadata": {
    "collapsed": true
   },
   "outputs": [],
   "source": [
    "from telegram.ext import CommandHandler"
   ]
  },
  {
   "cell_type": "code",
   "execution_count": 6,
   "metadata": {
    "collapsed": true
   },
   "outputs": [],
   "source": [
    "start_handler = CommandHandler('start', cmd_start)\n",
    "dispatcher.add_handler(start_handler)"
   ]
  },
  {
   "cell_type": "markdown",
   "metadata": {},
   "source": [
    "Finally, we start the bot with:"
   ]
  },
  {
   "cell_type": "code",
   "execution_count": 7,
   "metadata": {},
   "outputs": [
    {
     "data": {
      "text/plain": [
       "<queue.Queue at 0x262acffc2b0>"
      ]
     },
     "execution_count": 7,
     "metadata": {},
     "output_type": "execute_result"
    }
   ],
   "source": [
    "updater.start_polling()"
   ]
  },
  {
   "cell_type": "markdown",
   "metadata": {},
   "source": [
    "To stop it, use:"
   ]
  },
  {
   "cell_type": "code",
   "execution_count": 8,
   "metadata": {
    "collapsed": true
   },
   "outputs": [],
   "source": [
    "updater.stop()"
   ]
  },
  {
   "cell_type": "markdown",
   "metadata": {},
   "source": [
    "## zImage in Telegram"
   ]
  },
  {
   "cell_type": "markdown",
   "metadata": {},
   "source": [
    "In this section, we will show how the class zImage of the API zAI could be use in our telegram bot. In this tutorial we are going to use Google as backend. We assume that the user has already configured properly the backend API's keys.\n",
    "\n",
    "So, let's begin!"
   ]
  },
  {
   "cell_type": "markdown",
   "metadata": {},
   "source": [
    "First, we will make that our bot shows us a menu with all the options that we have when we send it a photo. "
   ]
  },
  {
   "cell_type": "code",
   "execution_count": 9,
   "metadata": {
    "collapsed": true
   },
   "outputs": [],
   "source": [
    "from telegram import ReplyKeyboardMarkup"
   ]
  },
  {
   "cell_type": "code",
   "execution_count": 10,
   "metadata": {
    "collapsed": true
   },
   "outputs": [],
   "source": [
    "def cmd_photo(bot, update):\n",
    "    # Get id of the photo with the best quality\n",
    "    photo_id = update.message.photo[-1].file_id\n",
    "    # Get photo and save it as \"newPhoto.png\"\n",
    "    newPhoto = bot.get_file(photo_id)\n",
    "    newPhoto.download('newPhoto.png')\n",
    "    # Create a custom reply keyboard\n",
    "    reply_keyboard = [['/OCR','/findFaces', '/labels']]\n",
    "    reply_markup = ReplyKeyboardMarkup(reply_keyboard)\n",
    "    bot.send_message(chat_id = update.message.chat_id, text='What to do with the image?', reply_markup=reply_markup)"
   ]
  },
  {
   "cell_type": "markdown",
   "metadata": {},
   "source": [
    "Instead of a CommandHandler, in this case we use a MessageHandler with a photo filter. In this case, the function cmd_phote will be called any time the bot receives a photo."
   ]
  },
  {
   "cell_type": "code",
   "execution_count": 11,
   "metadata": {
    "collapsed": true
   },
   "outputs": [],
   "source": [
    "from telegram.ext import MessageHandler, Filters"
   ]
  },
  {
   "cell_type": "code",
   "execution_count": 12,
   "metadata": {
    "collapsed": true
   },
   "outputs": [],
   "source": [
    "photo_handler = MessageHandler(Filters.photo, cmd_photo)\n",
    "dispatcher.add_handler(photo_handler)"
   ]
  },
  {
   "cell_type": "markdown",
   "metadata": {},
   "source": [
    "One of the these options are OCR. This reads the text contained in the photo and send us a message with it. To do it, we define a function cmd_OCR that creates a new zImage object with the photo previously downloaded and applies optical character recognization over it."
   ]
  },
  {
   "cell_type": "code",
   "execution_count": 13,
   "metadata": {
    "collapsed": true
   },
   "outputs": [],
   "source": [
    "import sys\n",
    "sys.path.append(\"..\")\n",
    "from zAI import zImage"
   ]
  },
  {
   "cell_type": "code",
   "execution_count": 14,
   "metadata": {
    "collapsed": true
   },
   "outputs": [],
   "source": [
    "def cmd_OCR(bot, update):\n",
    "    zi = zImage('newPhoto.png')\n",
    "    ocr = zi.ocr(backend='Google')\n",
    "    bot.send_message(chat_id = update.message.chat_id, text=ocr.text)"
   ]
  },
  {
   "cell_type": "code",
   "execution_count": 15,
   "metadata": {
    "collapsed": true
   },
   "outputs": [],
   "source": [
    "OCR_handler = CommandHandler('OCR', cmd_OCR)\n",
    "dispatcher.add_handler(OCR_handler)"
   ]
  },
  {
   "cell_type": "markdown",
   "metadata": {},
   "source": [
    "As it name suggest, the command /findFaces find the faces in the photo, crops they and sends they back one by one."
   ]
  },
  {
   "cell_type": "code",
   "execution_count": 16,
   "metadata": {
    "collapsed": true
   },
   "outputs": [],
   "source": [
    "def cmd_findFaces(bot, update):\n",
    "    zi = zImage('newPhoto.png')\n",
    "    zi.find_faces(backend='Google')\n",
    "    for i in range(len(zi.faces)):\n",
    "        zface = zi.extract_face(n=i, margin=15)\n",
    "        zface.save('newFace.png')\n",
    "        bot.send_photo(chat_id = update.message.chat_id, photo=open('newFace.png','rb'))"
   ]
  },
  {
   "cell_type": "code",
   "execution_count": 17,
   "metadata": {
    "collapsed": true
   },
   "outputs": [],
   "source": [
    "findFaces_handler = CommandHandler('findFaces', cmd_findFaces)\n",
    "dispatcher.add_handler(findFaces_handler)"
   ]
  },
  {
   "cell_type": "markdown",
   "metadata": {},
   "source": [
    "The command /labels returns a list of the five labels that better describe our photo."
   ]
  },
  {
   "cell_type": "code",
   "execution_count": 18,
   "metadata": {
    "collapsed": true
   },
   "outputs": [],
   "source": [
    "def cmd_labels(bot, update):\n",
    "    zi = zImage('newPhoto.png')\n",
    "    labels = zi.label(n=5, backend='Google')\n",
    "    bot.send_message(chat_id = update.message.chat_id, text=', '.join(labels))"
   ]
  },
  {
   "cell_type": "code",
   "execution_count": 19,
   "metadata": {
    "collapsed": true
   },
   "outputs": [],
   "source": [
    "labels_handler = CommandHandler('labels', cmd_labels)\n",
    "dispatcher.add_handler(labels_handler)"
   ]
  },
  {
   "cell_type": "markdown",
   "metadata": {},
   "source": [
    "Finally, we initialice the bot to start working."
   ]
  },
  {
   "cell_type": "code",
   "execution_count": 20,
   "metadata": {},
   "outputs": [
    {
     "data": {
      "text/plain": [
       "<queue.Queue at 0x262acffc2b0>"
      ]
     },
     "execution_count": 20,
     "metadata": {},
     "output_type": "execute_result"
    }
   ],
   "source": [
    "updater.start_polling()"
   ]
  },
  {
   "cell_type": "code",
   "execution_count": 21,
   "metadata": {},
   "outputs": [],
   "source": [
    "updater.stop()"
   ]
  },
  {
   "cell_type": "markdown",
   "metadata": {},
   "source": [
    "## Results"
   ]
  },
  {
   "cell_type": "markdown",
   "metadata": {},
   "source": [
    "![alt text](figures/zAI-Telegram/Screenshot_01.png)\n",
    "![alt text](figures/zAI-Telegram/Screenshot_02.png)\n",
    "![alt text](figures/zAI-Telegram/Screenshot_03.png)\n",
    "![alt text](figures/zAI-Telegram/Screenshot_04.png)\n",
    "![alt text](figures/zAI-Telegram/Screenshot_05.png)\n",
    "![alt text](figures/zAI-Telegram/Screenshot_06.png)"
   ]
  }
 ],
 "metadata": {
  "kernelspec": {
   "display_name": "Python 3",
   "language": "python",
   "name": "python3"
  },
  "language_info": {
   "codemirror_mode": {
    "name": "ipython",
    "version": 3
   },
   "file_extension": ".py",
   "mimetype": "text/x-python",
   "name": "python",
   "nbconvert_exporter": "python",
   "pygments_lexer": "ipython3",
   "version": "3.6.4"
  }
 },
 "nbformat": 4,
 "nbformat_minor": 2
}
